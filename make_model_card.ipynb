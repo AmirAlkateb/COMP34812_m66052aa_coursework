{
 "cells": [
  {
   "cell_type": "code",
   "execution_count": 1,
   "metadata": {},
   "outputs": [
    {
     "name": "stdout",
     "output_type": "stream",
     "text": [
      "Requirement already satisfied: Jinja2 in /Users/amiralkateb/.virtualenvs/nlu/lib/python3.12/site-packages (3.1.6)\n",
      "Requirement already satisfied: MarkupSafe>=2.0 in /Users/amiralkateb/.virtualenvs/nlu/lib/python3.12/site-packages (from Jinja2) (3.0.2)\n",
      "\n",
      "\u001b[1m[\u001b[0m\u001b[34;49mnotice\u001b[0m\u001b[1;39;49m]\u001b[0m\u001b[39;49m A new release of pip is available: \u001b[0m\u001b[31;49m24.3.1\u001b[0m\u001b[39;49m -> \u001b[0m\u001b[32;49m25.0.1\u001b[0m\n",
      "\u001b[1m[\u001b[0m\u001b[34;49mnotice\u001b[0m\u001b[1;39;49m]\u001b[0m\u001b[39;49m To update, run: \u001b[0m\u001b[32;49mpip install --upgrade pip\u001b[0m\n"
     ]
    }
   ],
   "source": [
    "!pip install Jinja2"
   ]
  },
  {
   "cell_type": "code",
   "execution_count": 2,
   "metadata": {},
   "outputs": [
    {
     "name": "stderr",
     "output_type": "stream",
     "text": [
      "/Users/amiralkateb/.virtualenvs/nlu/lib/python3.12/site-packages/tqdm/auto.py:21: TqdmWarning: IProgress not found. Please update jupyter and ipywidgets. See https://ipywidgets.readthedocs.io/en/stable/user_install.html\n",
      "  from .autonotebook import tqdm as notebook_tqdm\n"
     ]
    }
   ],
   "source": [
    "from huggingface_hub import ModelCard, ModelCardData"
   ]
  },
  {
   "cell_type": "code",
   "execution_count": null,
   "metadata": {},
   "outputs": [],
   "source": [
    "card_data = ModelCardData(\n",
    "    language='en',\n",
    "    license='cc-by-4.0',\n",
    "    tags=['text-classification'],\n",
    "    repo=\"https://github.com/username/project_name\",\n",
    "    ignore_metadata_errors=True)\n",
    "\n",
    "card = ModelCard.from_template(\n",
    "    card_data = card_data,\n",
    "    template_path='COMP34812_modelcard_template.md',\n",
    "    # change the following line to indicate your respective usernames\n",
    "    # and the abbreviation of the relevant track name, e.g., NLI, ED, AV\n",
    "    model_id = 'm66052aa-track_ED',\n",
    "\n",
    "    # the following lines were provided to give you an example value for each attribute\n",
    "    model_summary = '''This is a classification model that was trained to\n",
    "      detect whether a piece of evidence supports a claim.''',\n",
    "    model_description = '''This model is based upon a BERT model that was fine-tuned\n",
    "      on 21K pairs of texts.''',\n",
    "    developers = 'Amir Alkateb',\n",
    "    base_model_repo = 'https://huggingface.co/google-bert/bert-base-uncased',\n",
    "    base_model_paper = 'https://aclanthology.org/N19-1423.pdf',\n",
    "    model_type = 'Supervised',\n",
    "    model_architecture = 'Transformers',\n",
    "    language = 'English',\n",
    "    base_model = 'bert-base-uncased',\n",
    "    training_data = '21K pairs of claims and evidence.',\n",
    "    hyperparameters = '''\n",
    "      - learning_rate: 2e-05\n",
    "      - train_batch_size: 16\n",
    "      - eval_batch_size: 32\n",
    "      - num_epochs: 3''',\n",
    "    speeds_sizes_times = '''\n",
    "      - overall training time: 2 hours\n",
    "      - duration per training epoch: 40 minutes\n",
    "      - model size: 300MB''',\n",
    "    testing_data = '7k pairs of claims and evidence.',\n",
    "    testing_metrics = '''\n",
    "      - F1-score\n",
    "      - Accuracy''',\n",
    "    results = 'The model obtained an F1-score of 74% and an accuracy of 87%.',\n",
    "    hardware_requirements = '''\n",
    "      - RAM: at least 16 GB\n",
    "      - Storage: at least 2GB,\n",
    "      - GPU: T4''',\n",
    "    software = '''\n",
    "      - Transformers 4.18.0\n",
    "      - Pytorch 1.11.0+cu113''',\n",
    "    bias_risks_limitations = '''Any inputs (concatenation of two sequences) longer than\n",
    "      512 subwords will be truncated by the model.''',\n",
    "    additional_information = '''The hyperparameters were determined by experimentation\n",
    "      with different values.'''\n",
    ")\n",
    "\n",
    "# the following lines will write a markdown (.md) file; this becomes one of your model cards\n",
    "# change the filename accordingly\n",
    "with open('my_model_card.md', 'w') as model_card:\n",
    "  model_card.write(card.content)"
   ]
  }
 ],
 "metadata": {
  "kernelspec": {
   "display_name": "nlu",
   "language": "python",
   "name": "python3"
  },
  "language_info": {
   "codemirror_mode": {
    "name": "ipython",
    "version": 3
   },
   "file_extension": ".py",
   "mimetype": "text/x-python",
   "name": "python",
   "nbconvert_exporter": "python",
   "pygments_lexer": "ipython3",
   "version": "3.12.3"
  }
 },
 "nbformat": 4,
 "nbformat_minor": 2
}
